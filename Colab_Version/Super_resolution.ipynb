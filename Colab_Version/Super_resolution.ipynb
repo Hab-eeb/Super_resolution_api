{
  "nbformat": 4,
  "nbformat_minor": 0,
  "metadata": {
    "colab": {
      "name": "Super_resolution.ipynb",
      "provenance": [],
      "collapsed_sections": []
    },
    "kernelspec": {
      "name": "python3",
      "display_name": "Python 3"
    },
    "language_info": {
      "name": "python"
    }
  },
  "cells": [
    {
      "cell_type": "markdown",
      "source": [
        "# Create and Install the requirements.txt"
      ],
      "metadata": {
        "id": "T_fDJttkFNNV"
      }
    },
    {
      "cell_type": "code",
      "source": [
        "%%writefile requirements.txt\n",
        "colabcode\n",
        "fastapi\n",
        "uvicorn\n",
        "python-multipart\n",
        "ISR "
      ],
      "metadata": {
        "colab": {
          "base_uri": "https://localhost:8080/"
        },
        "id": "_YFdmsg8C542",
        "outputId": "e0136824-ba60-430d-d17f-0a49f22b57e6"
      },
      "execution_count": null,
      "outputs": [
        {
          "output_type": "stream",
          "name": "stdout",
          "text": [
            "Writing requirements.txt\n"
          ]
        }
      ]
    },
    {
      "cell_type": "code",
      "source": [
        "!pip install -r requirements.txt"
      ],
      "metadata": {
        "id": "oCweLHKtDNPn"
      },
      "execution_count": null,
      "outputs": []
    },
    {
      "cell_type": "code",
      "execution_count": null,
      "metadata": {
        "id": "3Cxs4df1SqlF"
      },
      "outputs": [],
      "source": [
        "#An extra install due to some issues with the model as stated in the github issue of the model https://github.com/idealo/image-super-resolution/issues/197#issue-877826405\n",
        "pip install 'h5py==2.10.0' --force-reinstall"
      ]
    },
    {
      "cell_type": "markdown",
      "source": [
        "#  Download and install Ngrok which is used for exposing the localhost so we can view the API with Google Colab."
      ],
      "metadata": {
        "id": "JZ5oD8cHGY30"
      }
    },
    {
      "cell_type": "code",
      "source": [
        "!wget https://bin.equinox.io/c/bNyj1mQVY4c/ngrok-v3-stable-linux-amd64.tgz"
      ],
      "metadata": {
        "colab": {
          "base_uri": "https://localhost:8080/"
        },
        "id": "Df4XQGwxTWoP",
        "outputId": "2f878264-81cc-4616-8405-bbfe9da740d6"
      },
      "execution_count": null,
      "outputs": [
        {
          "output_type": "stream",
          "name": "stdout",
          "text": [
            "--2022-06-10 18:34:01--  https://bin.equinox.io/c/bNyj1mQVY4c/ngrok-v3-stable-linux-amd64.tgz\n",
            "Resolving bin.equinox.io (bin.equinox.io)... 54.237.133.81, 54.161.241.46, 52.202.168.65, ...\n",
            "Connecting to bin.equinox.io (bin.equinox.io)|54.237.133.81|:443... connected.\n",
            "HTTP request sent, awaiting response... 200 OK\n",
            "Length: 7247863 (6.9M) [application/octet-stream]\n",
            "Saving to: ‘ngrok-v3-stable-linux-amd64.tgz’\n",
            "\n",
            "ngrok-v3-stable-lin 100%[===================>]   6.91M  38.7MB/s    in 0.2s    \n",
            "\n",
            "2022-06-10 18:34:02 (38.7 MB/s) - ‘ngrok-v3-stable-linux-amd64.tgz’ saved [7247863/7247863]\n",
            "\n"
          ]
        }
      ]
    },
    {
      "cell_type": "code",
      "source": [
        "!tar -xvzf /content/ngrok-v3-stable-linux-amd64.tgz"
      ],
      "metadata": {
        "colab": {
          "base_uri": "https://localhost:8080/"
        },
        "id": "BSBbyxP_TWrb",
        "outputId": "c7181239-d802-4425-b27f-96f9052d7da9"
      },
      "execution_count": null,
      "outputs": [
        {
          "output_type": "stream",
          "name": "stdout",
          "text": [
            "ngrok\n"
          ]
        }
      ]
    },
    {
      "cell_type": "code",
      "source": [
        "!ngrok authtoken 29vr8YhWZ9CDHrUq2kr0CpUA0e8_6ik4hU5GjJZeAYagTH5i4"
      ],
      "metadata": {
        "colab": {
          "base_uri": "https://localhost:8080/"
        },
        "id": "l6sIjpzNUPCX",
        "outputId": "6557ea0f-c98e-4510-8891-0e00e85546c9"
      },
      "execution_count": null,
      "outputs": [
        {
          "output_type": "stream",
          "name": "stdout",
          "text": [
            "Authtoken saved to configuration file: /root/.ngrok2/ngrok.yml\n"
          ]
        }
      ]
    },
    {
      "cell_type": "markdown",
      "source": [
        "# Instantiate the Colab Code module and the run the next cell to create the fastapi app."
      ],
      "metadata": {
        "id": "rYCTlOwYGhmW"
      }
    },
    {
      "cell_type": "code",
      "source": [
        "#!pip install colabcode\n",
        "from colabcode import ColabCode"
      ],
      "metadata": {
        "id": "59_wOekbULCc"
      },
      "execution_count": null,
      "outputs": []
    },
    {
      "cell_type": "code",
      "source": [
        "import uvicorn\n",
        "from fastapi import FastAPI, File, UploadFile, Response\n",
        "from fastapi.responses import StreamingResponse, FileResponse\n",
        "import numpy as np\n",
        "import io\n",
        "from PIL import Image\n",
        "from ISR.models import RDN\n",
        "import cv2\n",
        "\n",
        "app = FastAPI()\n",
        "\n",
        "rdn = RDN(weights='noise-cancel')\n",
        "\n",
        "@app.post(\"/\")\n",
        "async def root(file: UploadFile = File(...)):\n",
        "\n",
        "    contents = io.BytesIO(await file.read())\n",
        "    file_bytes = np.asarray(bytearray(contents.read()), dtype=np.uint8)\n",
        "    img = cv2.imdecode(file_bytes, cv2.IMREAD_COLOR)\n",
        "\n",
        "    sr_img = rdn.predict(img, by_patch_of_size=300)\n",
        "    # Image.fromarray(sr_img)\n",
        "    res, im_png = cv2.imencode(\".png\", sr_img)\n",
        "\n",
        "    return StreamingResponse(io.BytesIO(im_png.tobytes()), media_type=\"image/png\")\n",
        "\n"
      ],
      "metadata": {
        "id": "A4jrOsPtTWwR",
        "colab": {
          "base_uri": "https://localhost:8080/"
        },
        "outputId": "a5dc65b0-5e40-4cc0-fa6a-e9ca3fcc0a33"
      },
      "execution_count": null,
      "outputs": [
        {
          "output_type": "stream",
          "name": "stdout",
          "text": [
            "Downloading data from https://public-asai-dl-models.s3.eu-central-1.amazonaws.com/ISR/rdn-C6-D20-G64-G064-x2/ArtefactCancelling/rdn-C6-D20-G64-G064-x2_ArtefactCancelling_epoch219.hdf5\n",
            "66076672/66071288 [==============================] - 3s 0us/step\n"
          ]
        }
      ]
    },
    {
      "cell_type": "code",
      "source": [
        "cc = ColabCode(port=18000, code=False)"
      ],
      "metadata": {
        "id": "Wn13S_fLXKhy"
      },
      "execution_count": null,
      "outputs": []
    },
    {
      "cell_type": "markdown",
      "source": [
        "# The API can then be viewed using the Public Url Generated by Colab Code."
      ],
      "metadata": {
        "id": "Slner_snGsrx"
      }
    },
    {
      "cell_type": "code",
      "source": [
        "cc.run_app(app=app)"
      ],
      "metadata": {
        "colab": {
          "base_uri": "https://localhost:8080/"
        },
        "id": "ke1uWQY4Y2as",
        "outputId": "04486ec0-245f-40bc-d8eb-7c714983b9a9"
      },
      "execution_count": null,
      "outputs": [
        {
          "output_type": "stream",
          "name": "stdout",
          "text": [
            "Public URL: NgrokTunnel: \"https://8d4a-35-231-208-162.ngrok.io\" -> \"http://localhost:18000\"\n"
          ]
        },
        {
          "output_type": "stream",
          "name": "stderr",
          "text": [
            "INFO:     Started server process [61]\n",
            "INFO:     Waiting for application startup.\n",
            "INFO:     Application startup complete.\n",
            "INFO:     Uvicorn running on http://127.0.0.1:18000 (Press CTRL+C to quit)\n"
          ]
        },
        {
          "output_type": "stream",
          "name": "stdout",
          "text": [
            "INFO:     102.89.47.10:0 - \"GET / HTTP/1.1\" 405 Method Not Allowed\n",
            "INFO:     102.89.47.10:0 - \"GET /favicon.ico HTTP/1.1\" 404 Not Found\n",
            "INFO:     102.89.47.10:0 - \"GET /docs HTTP/1.1\" 200 OK\n",
            "INFO:     102.89.47.10:0 - \"GET /openapi.json HTTP/1.1\" 200 OK\n",
            "INFO:     102.89.46.179:0 - \"POST / HTTP/1.1\" 200 OK\n"
          ]
        }
      ]
    }
  ]
}